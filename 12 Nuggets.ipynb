{
 "cells": [
  {
   "cell_type": "markdown",
   "metadata": {},
   "source": [
    "# 12 nuggets all of equal weight except 1.  The odd one out could lighter or heavier.  Algorithm to determine which one."
   ]
  },
  {
   "cell_type": "markdown",
   "metadata": {},
   "source": [
    "### Function to store nugget weights in dictionary ###\n",
    "**_Assume 10 of the nuggest weigh 1 unit_**"
   ]
  },
  {
   "cell_type": "code",
   "execution_count": 129,
   "metadata": {},
   "outputs": [],
   "source": [
    "def nuggets_init (odd_nugget_no, odd_nugget_weight):\n",
    "    nugget = {}\n",
    "    f = lambda nugget, odd_nugget_no, odd_nugget_weight: odd_nugget_weight if (nugget == odd_nugget_no) else 1 \n",
    "    nuggets = {nugget: f(nugget,odd_nugget_no,odd_nugget_weight) for nugget in range(1,13)}\n",
    "    return(nuggets)"
   ]
  },
  {
   "cell_type": "markdown",
   "metadata": {},
   "source": [
    "### Function to determine which nugget is the odd one out"
   ]
  },
  {
   "cell_type": "code",
   "execution_count": 138,
   "metadata": {},
   "outputs": [],
   "source": [
    "def odd_one_out (n):\n",
    "    # Weight nuggets 1...4 vs. 5...8\n",
    "    # Scenario 1:  1...4 equal to  5...8\n",
    "    # Scenario 2:  1...4 heavier than 5...8\n",
    "    # Scenario 3:  1...4 lighter than 5...8\n",
    "    \n",
    "    if (n[1]+n[2]+n[3]+n[4]) == (n[5]+n[6]+n[7]+n[8]):   #Scenario 1, weighing 1. Nuggets 9-12 contain the odd one out.\n",
    "        if (n[9] == n[10]):   #Scenario 1, weighing 2. Nuggets 11 or 12 are the odd one out\n",
    "            if (n[11] == n[1]):   #Scenario 1, weighing 3. Nugget 12 is the odd one out.\n",
    "                return (12, n[12])\n",
    "            else:   #Scenario 1, weighing 3. Nugget 11 is the odd one out.\n",
    "                return (11, n[11])\n",
    "        else: #Scenario 1, weighing 2. Nuggets 9 or 10 are the odd one out.\n",
    "            if (n[9] == n[1]):   #Scenario 1, weighing 3. Nugget 10 is the odd one out.\n",
    "                return (10, n[10])\n",
    "            else:   #Scenario 1, weighing 3. Nugget 9 is the odd one out.\n",
    "                return (9, n[9])   \n",
    "    elif (n[1]+n[2]+n[3]+n[4]) > (n[5]+n[6]+n[7]+n[8]):   #Scenario 2, weighing 1. Nuggets 1-8 contain the odd one out.\n",
    "        if (n[1]+n[5]+n[6]+n[7]) > (n[8]+n[9]+n[10]+n[11]):   #Scenario 2, weighing 2. Nuggets 1 or 8 are the odd one out\n",
    "            if (n[1] == n[9]):   #Scenario 2, weighing 3. Nugget 8 is the odd one out.  \n",
    "                return (8, n[10])\n",
    "            else:   #Scenario 2, weighing 3. Nugget 1 is the odd one out.\n",
    "                return (1, n[1])\n",
    "        elif (n[1]+n[5]+n[6]+n[7]) < (n[8]+n[9]+n[10]+n[11]):   #Scenario 2, weighing 2. Nuggets 5...7 contain the odd one out.\n",
    "            if (n[5] < n[6]):   #Scenario 2, weighing 3.  Nugget 5 is the odd one out.\n",
    "                return (5, n[5])\n",
    "            elif (n[6] < n[5]):   #Scenario 2, weighing 3. Nugget 6 is the odd one out.\n",
    "                return (6, n[6])\n",
    "            elif (n[6] == n[5]):   #Scenario 2, weighing 3.Nugget 7 is the odd one out.\n",
    "                return (7, n[7])\n",
    "        elif (n[1]+n[5]+n[6]+n[7]) == (n[8]+n[9]+n[10]+n[11]):   #Scenario 2, weighing 2. Nuggets 2...4 contain the odd one out.\n",
    "            if (n[2] > n[3]):   #Scenario 2, weighing 3.  Nugget 2 is the odd one out.\n",
    "                return (2, n[2])\n",
    "            elif (n[3] > n[2]):   #Scenario 2, weighing 3. Nugget 3 is the odd one out.\n",
    "                return (3, n[3])\n",
    "            elif (n[2] == n[3]):   #Scenario 2, weighing 3.Nugget 4 is the odd one out.\n",
    "                return (4, n[4])\n",
    "    elif (n[1]+n[2]+n[3]+n[4]) < (n[5]+n[6]+n[7]+n[8]):   #Scenario 3, weighing 1. Nuggets 1-8 contain the odd one out.\n",
    "            if (n[1]+n[5]+n[6]+n[7]) < (n[8]+n[9]+n[10]+n[11]):   #Scenario 2, weighing 2. Nuggets 1 or 8 are the odd one out\n",
    "                if (n[1] == n[9]):   #Scenario 2, weighing 3. Nugget 8 is the odd one out.  \n",
    "                    return (8, n[10])\n",
    "                else:   #Scenario 2, weighing 3. Nugget 1 is the odd one out.\n",
    "                    return (1, n[1])\n",
    "            elif (n[1]+n[5]+n[6]+n[7]) > (n[8]+n[9]+n[10]+n[11]):   #Scenario 2, weighing 2. Nuggets 5...7 contain the odd one out.\n",
    "                if (n[5] > n[6]):   #Scenario 2, weighing 3.  Nugget 5 is the odd one out.\n",
    "                    return (5, n[5])\n",
    "                elif (n[6] > n[5]):   #Scenario 2, weighing 3. Nugget 6 is the odd one out.\n",
    "                    return (6, n[6])\n",
    "                elif (n[6] == n[5]):   #Scenario 2, weighing 3.Nugget 7 is the odd one out.\n",
    "                    return (7, n[7])\n",
    "            elif (n[1]+n[5]+n[6]+n[7]) == (n[8]+n[9]+n[10]+n[11]):   #Scenario 2, weighing 2. Nuggets 2...4 contain the odd one out.\n",
    "                if (n[2] < n[3]):   #Scenario 2, weighing 3.  Nugget 2 is the odd one out.\n",
    "                    return (2, n[2])\n",
    "                elif (n[3] < n[2]):   #Scenario 2, weighing 3. Nugget 3 is the odd one out.\n",
    "                    return (3, n[3])\n",
    "                elif (n[2] == n[3]):   #Scenario 2, weighing 3.Nugget 4 is the odd one out.\n",
    "                    return (4, n[4])\n",
    "            "
   ]
  },
  {
   "cell_type": "markdown",
   "metadata": {},
   "source": [
    "### Run a test ... "
   ]
  },
  {
   "cell_type": "code",
   "execution_count": 161,
   "metadata": {},
   "outputs": [
    {
     "name": "stdout",
     "output_type": "stream",
     "text": [
      "Nugget #1 is the odd one out with a weight of 52.74\n",
      "Nugget #2 is the odd one out with a weight of 39.47\n",
      "Nugget #3 is the odd one out with a weight of 33.79\n",
      "Nugget #4 is the odd one out with a weight of 40.25\n",
      "Nugget #5 is the odd one out with a weight of 36.66\n",
      "Nugget #6 is the odd one out with a weight of 39.42\n",
      "Nugget #7 is the odd one out with a weight of 30.11\n",
      "Nugget #8 is the odd one out with a weight of 1\n",
      "Nugget #9 is the odd one out with a weight of 89.34\n",
      "Nugget #10 is the odd one out with a weight of 73.1\n",
      "Nugget #11 is the odd one out with a weight of 6.53\n",
      "Nugget #12 is the odd one out with a weight of 18.9\n"
     ]
    }
   ],
   "source": [
    "import random\n",
    "\n",
    "for n in range (1,13):\n",
    "    w = float(f'{random.uniform(1,100):0.2f}')\n",
    "    nuggets = nuggets_init(n,w)  # Assign nugget number \"n\" a weight of \"w\"\n",
    "    (odd_nugget, odd_nugget_weight) = odd_one_out(nuggets)\n",
    "    print (f'Nugget #{odd_nugget} is the odd one out with a weight of {odd_nugget_weight}')"
   ]
  },
  {
   "cell_type": "code",
   "execution_count": null,
   "metadata": {},
   "outputs": [],
   "source": []
  }
 ],
 "metadata": {
  "kernelspec": {
   "display_name": "Python 3",
   "language": "python",
   "name": "python3"
  },
  "language_info": {
   "codemirror_mode": {
    "name": "ipython",
    "version": 3
   },
   "file_extension": ".py",
   "mimetype": "text/x-python",
   "name": "python",
   "nbconvert_exporter": "python",
   "pygments_lexer": "ipython3",
   "version": "3.7.0"
  }
 },
 "nbformat": 4,
 "nbformat_minor": 2
}
