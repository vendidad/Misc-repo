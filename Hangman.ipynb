{
 "cells": [
  {
   "cell_type": "markdown",
   "metadata": {},
   "source": [
    "### Hangman game"
   ]
  },
  {
   "cell_type": "markdown",
   "metadata": {},
   "source": [
    "### Generate list of words"
   ]
  },
  {
   "cell_type": "code",
   "execution_count": null,
   "metadata": {
    "collapsed": true
   },
   "outputs": [],
   "source": [
    "with open ('data/dictionary_full.txt', 'r') as dictionary:                     # read full dictionary file\n",
    "    all_words = dictionary.readlines()\n",
    "words = [word for word in all_words if (len(word) >= 5 and word.islower())]    # filter out words which are less than 5 charatcers long & contain an upper case letter\n",
    "with open('data/words.txt', 'w') as out:                                       # store filtered list in a file\n",
    "    out.writelines(words)"
   ]
  },
  {
   "cell_type": "markdown",
   "metadata": {},
   "source": [
    "### Game code"
   ]
  },
  {
   "cell_type": "code",
   "execution_count": 3,
   "metadata": {},
   "outputs": [
    {
     "name": "stdout",
     "output_type": "stream",
     "text": [
      "__ __ __ __ __ __ \n",
      "\n",
      "What is your guess: u\n",
      "Guesses entered: ['u']\n",
      "You have 10 guesses left\n",
      "__ u __ __ __ __ \n",
      "\n",
      "What is your guess: quit\n"
     ]
    }
   ],
   "source": [
    "import random\n",
    "\n",
    "def check_guess(random_word, guesses):\n",
    "    complete = True                                    # set flag for checking if entire word has been guesses\n",
    "    for (counter, value) in enumerate(random_word):    # get each alphabet character & associated index in word\n",
    "        if (value in guesses):                         # check if the charatcers in guesses array are part of the word \n",
    "            print (value, end=' ')\n",
    "        else:\n",
    "            print ('__', end=' ')\n",
    "            complete = False                           # set flag to indicate the the entire word has nto been guesses yet\n",
    "    print ('\\n')\n",
    "    return(complete)\n",
    "    \n",
    "def main():                                            # main function\n",
    "#     words = ['pacifier', 'cumbersome', 'diligent', 'brilliant', 'repugnant', 'admired'] # list of words\n",
    "    with open('data/words.txt', 'r') as wordlist:      # read file containing list of words\n",
    "        words = wordlist.readlines()                   # store words in a list\n",
    "    \n",
    "    no_guesses = 1\n",
    "    max_guesses = 10\n",
    "    guesses = []\n",
    "\n",
    "    random_word = random.choice(words).rstrip()                # choose random word from list\n",
    "#     print (random_word)\n",
    "    [print ('__ ', end='') for i in random_word]\n",
    "    print ('\\n')\n",
    "    \n",
    "    while (no_guesses <= max_guesses):\n",
    "        guess = input ('What is your guess: ').lower()        # ask player to input a guess\n",
    "        if (guess == 'quit'):                         # entering quit will exit the game immediately\n",
    "            break\n",
    "        if (len(guess) == 1 and guess.isalpha()):     # check if one alphabet character is entered\n",
    "            guesses.append(guess)                     # add guess to prior guesses in guesses array\n",
    "            if (random_word.find(guess) == -1):       # check if the alphabet character input is part of the word\n",
    "                print ('\\'{}\\' is not part the word'.format(guess))\n",
    "                print ('Guesses entered: {}'.format(guesses))\n",
    "                print ('You have {} guesses left'.format(max_guesses-no_guesses))\n",
    "                no_guesses+=1                         # reduce available guesses by 1\n",
    "            else:\n",
    "                print ('Guesses entered: {}'.format(guesses))\n",
    "                print ('You have {} guesses left'.format(max_guesses-no_guesses+1))\n",
    "            \n",
    "            complete = check_guess(random_word, guesses)     # function to check entered guess\n",
    "            if (complete):                            # check if the player has guessed the word\n",
    "                print ('GOOD JOB!')\n",
    "                break\n",
    "        else:\n",
    "            print ('Input only one alphabet character\\n')     # print error for incorrect input\n",
    "    if (no_guesses > max_guesses):                     # check if the player has exceeded the max number of allowed guesses\n",
    "        print ('Sorry you have exceeded the maximum number of allowed guesses')\n",
    "        print ('The word was {}'.format(random_word))\n",
    "        \n",
    "if __name__ == \"__main__\":\n",
    "    main()"
   ]
  },
  {
   "cell_type": "code",
   "execution_count": null,
   "metadata": {
    "collapsed": true
   },
   "outputs": [],
   "source": []
  }
 ],
 "metadata": {
  "kernelspec": {
   "display_name": "Python 3",
   "language": "python",
   "name": "python3"
  },
  "language_info": {
   "codemirror_mode": {
    "name": "ipython",
    "version": 3
   },
   "file_extension": ".py",
   "mimetype": "text/x-python",
   "name": "python",
   "nbconvert_exporter": "python",
   "pygments_lexer": "ipython3",
   "version": "3.6.3"
  }
 },
 "nbformat": 4,
 "nbformat_minor": 2
}
